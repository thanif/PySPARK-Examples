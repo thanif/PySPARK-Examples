{
 "cells": [
  {
   "cell_type": "code",
   "execution_count": 1,
   "metadata": {},
   "outputs": [],
   "source": [
    "import findspark\n",
    "findspark.init()\n",
    "import pyspark\n",
    "from pyspark.sql import *\n",
    "from pyspark import SparkContext, SparkConf"
   ]
  },
  {
   "cell_type": "code",
   "execution_count": 2,
   "metadata": {},
   "outputs": [
    {
     "name": "stdout",
     "output_type": "stream",
     "text": [
      "3.5.2\n"
     ]
    }
   ],
   "source": [
    "from platform import python_version\n",
    "\n",
    "print(python_version())"
   ]
  },
  {
   "cell_type": "code",
   "execution_count": 3,
   "metadata": {},
   "outputs": [],
   "source": [
    "# create the session\n",
    "conf = SparkConf().setMaster(\"local\").setAppName(\"My app\")\n",
    "# create the context\n",
    "#sc = pyspark.SparkContext(conf=conf)\n",
    "sc = SparkContext.getOrCreate()\n",
    "spark = SparkSession.builder.getOrCreate()"
   ]
  },
  {
   "cell_type": "code",
   "execution_count": 4,
   "metadata": {},
   "outputs": [
    {
     "data": {
      "text/html": [
       "\n",
       "            <div>\n",
       "                <p><b>SparkSession - in-memory</b></p>\n",
       "                \n",
       "        <div>\n",
       "            <p><b>SparkContext</b></p>\n",
       "\n",
       "            <p><a href=\"http://192.168.100.6:4040\">Spark UI</a></p>\n",
       "\n",
       "            <dl>\n",
       "              <dt>Version</dt>\n",
       "                <dd><code>v2.4.3</code></dd>\n",
       "              <dt>Master</dt>\n",
       "                <dd><code>local[*]</code></dd>\n",
       "              <dt>AppName</dt>\n",
       "                <dd><code>pyspark-shell</code></dd>\n",
       "            </dl>\n",
       "        </div>\n",
       "        \n",
       "            </div>\n",
       "        "
      ],
      "text/plain": [
       "<pyspark.sql.session.SparkSession at 0x7f90fc10b550>"
      ]
     },
     "execution_count": 4,
     "metadata": {},
     "output_type": "execute_result"
    }
   ],
   "source": [
    "spark"
   ]
  },
  {
   "cell_type": "markdown",
   "metadata": {},
   "source": [
    "# Extract words having length greater than 4"
   ]
  },
  {
   "cell_type": "code",
   "execution_count": 9,
   "metadata": {},
   "outputs": [],
   "source": [
    "def func(lines):\n",
    "    \n",
    "    p = []\n",
    "    \n",
    "    \n",
    "    for l in lines:\n",
    "        \n",
    "        if len(l)>4:\n",
    "    \n",
    "            p.append(l.lower())\n",
    "        \n",
    "    \n",
    "    return p\n"
   ]
  },
  {
   "cell_type": "markdown",
   "metadata": {},
   "source": [
    "# Print Input File Content"
   ]
  },
  {
   "cell_type": "code",
   "execution_count": 50,
   "metadata": {},
   "outputs": [
    {
     "data": {
      "text/plain": [
       "['Horrid Henry’s hound hunts in the massive Murree mountains. While silly stupid Samuel’s dark dreadful dragon likes to hunt in',\n",
       " 'skies.',\n",
       " 'Horrid Henry’s hound and Samuel’s dreadful dragon Dany are fast friends and like to hunt and play together. They call themselves',\n",
       " 'fantastic fanciful foursome.']"
      ]
     },
     "execution_count": 50,
     "metadata": {},
     "output_type": "execute_result"
    }
   ],
   "source": [
    "inputfile = sc.textFile(\"./file1.txt\")\n",
    "inputfile.collect()"
   ]
  },
  {
   "cell_type": "markdown",
   "metadata": {},
   "source": [
    "# Generate Key/Value pairs such that trigrams of length greater than 4 being the value while the starting alphabet of the first word in the trigram being the key"
   ]
  },
  {
   "cell_type": "code",
   "execution_count": 13,
   "metadata": {},
   "outputs": [
    {
     "data": {
      "text/plain": [
       "[('s',\n",
       "  (((('silly', 'stupid', 'samuel’s'), ('stupid', 'samuel’s', 'dreadful')),\n",
       "    ('samuel’s', 'dreadful', 'dragon')),\n",
       "   ('samuel’s', 'dreadful', 'dragon'))),\n",
       " ('h',\n",
       "  ((((((('horrid', 'henry’s', 'hound'), ('henry’s', 'hound', 'hunts')),\n",
       "       ('hound', 'hunts', 'massive')),\n",
       "      ('hunts', 'massive', 'murree')),\n",
       "     ('horrid', 'henry’s', 'hound')),\n",
       "    ('henry’s', 'hound', 'samuel’s')),\n",
       "   ('hound', 'samuel’s', 'dreadful'))),\n",
       " ('d',\n",
       "  ((('dreadful', 'dragon', 'likes'), ('dreadful', 'dragon', 'friends')),\n",
       "   ('dragon', 'friends', 'together'))),\n",
       " ('m', ('massive', 'murree', 'mountains')),\n",
       " ('w', ('while', 'silly', 'stupid')),\n",
       " ('f', ('fantastic', 'fanciful', 'foursome'))]"
      ]
     },
     "execution_count": 13,
     "metadata": {},
     "output_type": "execute_result"
    }
   ],
   "source": [
    "inputfile = sc.textFile(\"./file1.txt\")\n",
    "inputfile.flatMap(lambda line: line.split(\".\")).map(lambda line: line.split(\" \")).map(func).flatMap(lambda xs: (tuple(x) for x in zip(xs, xs[1:], xs[2:]))).map(lambda x:(x[0][0], x)).reduceByKey(lambda x, y: (x, y)).collect()"
   ]
  },
  {
   "cell_type": "markdown",
   "metadata": {},
   "source": [
    "# Sum up the number of values corresponding each key"
   ]
  },
  {
   "cell_type": "code",
   "execution_count": 21,
   "metadata": {},
   "outputs": [
    {
     "data": {
      "text/plain": [
       "[('s', 4), ('h', 7), ('d', 3), ('m', 1), ('w', 1), ('f', 1)]"
      ]
     },
     "execution_count": 21,
     "metadata": {},
     "output_type": "execute_result"
    }
   ],
   "source": [
    "inputfile = sc.textFile(\"./file1.txt\")\n",
    "inputfile.flatMap(lambda line: line.split(\".\")).map(lambda line: line.split(\" \")).map(func).flatMap(lambda xs: (tuple(x) for x in zip(xs, xs[1:], xs[2:]))).map(lambda x:(x[0][0], 1)).reduceByKey(lambda accum, n: accum + n).collect()"
   ]
  },
  {
   "cell_type": "markdown",
   "metadata": {},
   "source": [
    "# Generate Trigrams such that all words in a trigram start with the same word"
   ]
  },
  {
   "cell_type": "code",
   "execution_count": 39,
   "metadata": {},
   "outputs": [
    {
     "data": {
      "text/plain": [
       "[('horrid', 'henry’s', 'hound'),\n",
       " ('henry’s', 'hound', 'hunts'),\n",
       " ('massive', 'murree', 'mountains'),\n",
       " ('silly', 'stupid', 'samuel’s'),\n",
       " ('horrid', 'henry’s', 'hound'),\n",
       " ('fantastic', 'fanciful', 'foursome')]"
      ]
     },
     "execution_count": 39,
     "metadata": {},
     "output_type": "execute_result"
    }
   ],
   "source": [
    "inputfile = sc.textFile(\"./file1.txt\")\n",
    "inputfile.flatMap(lambda line: line.split(\".\")).map(lambda line: line.split(\" \")).map(func).flatMap(lambda xs: (tuple(x) for x in zip(xs, xs[1:], xs[2:]) if (x[0][0] == x[1][0] == x[2][0]))).collect()"
   ]
  },
  {
   "cell_type": "markdown",
   "metadata": {},
   "source": [
    "# Generate Key/Value pairs such that trigram being the key while the number of times it appears is the value"
   ]
  },
  {
   "cell_type": "code",
   "execution_count": 48,
   "metadata": {},
   "outputs": [
    {
     "data": {
      "text/plain": [
       "[(('silly', 'stupid', 'samuel’s'), 1),\n",
       " (('fantastic', 'fanciful', 'foursome'), 1),\n",
       " (('massive', 'murree', 'mountains'), 1),\n",
       " (('horrid', 'henry’s', 'hound'), 2),\n",
       " (('henry’s', 'hound', 'hunts'), 1)]"
      ]
     },
     "execution_count": 48,
     "metadata": {},
     "output_type": "execute_result"
    }
   ],
   "source": [
    "inputfile = sc.textFile(\"./file1.txt\")\n",
    "inputfile.flatMap(lambda line: line.split(\".\")).map(lambda line: line.split(\" \")).map(func).flatMap(lambda xs: (tuple(x) for x in zip(xs, xs[1:], xs[2:]) if (x[0][0] == x[1][0] == x[2][0]))).map(lambda x:(x, 1)).reduceByKey(lambda accum, n: accum + n).collect()"
   ]
  },
  {
   "cell_type": "markdown",
   "metadata": {},
   "source": [
    "# Generate Key/Value pairs such that starting word of the trigram being the key while number of times it appears being the value"
   ]
  },
  {
   "cell_type": "code",
   "execution_count": 35,
   "metadata": {},
   "outputs": [
    {
     "data": {
      "text/plain": [
       "[('s', 1), ('h', 3), ('m', 1), ('f', 1)]"
      ]
     },
     "execution_count": 35,
     "metadata": {},
     "output_type": "execute_result"
    }
   ],
   "source": [
    "inputfile = sc.textFile(\"./file1.txt\")\n",
    "inputfile.flatMap(lambda line: line.split(\".\")).map(lambda line: line.split(\" \")).map(func).flatMap(lambda xs: (tuple(x) for x in zip(xs, xs[1:], xs[2:]) if (x[0][0] == x[1][0] == x[2][0]))).map(lambda x:(x[0][0], 1)).reduceByKey(lambda accum, n: accum + n).collect()"
   ]
  },
  {
   "cell_type": "markdown",
   "metadata": {},
   "source": [
    "# Count and print the number of three long consecutive words in a sentence that starts with the same english alphabet. We say that a word is long if it is greater than four alphabets."
   ]
  },
  {
   "cell_type": "code",
   "execution_count": 36,
   "metadata": {},
   "outputs": [],
   "source": [
    "inputfile = sc.textFile(\"./file1.txt\")\n",
    "output=inputfile.flatMap(lambda line: line.split(\".\")).map(lambda line: line.split(\" \")).map(func).flatMap(lambda xs: (tuple(x) for x in zip(xs, xs[1:], xs[2:]) if (x[0][0] == x[1][0] == x[2][0]))).map(lambda x:(x[0][0], 1)).reduceByKey(lambda accum, n: accum + n).collect()"
   ]
  },
  {
   "cell_type": "code",
   "execution_count": 38,
   "metadata": {},
   "outputs": [
    {
     "name": "stdout",
     "output_type": "stream",
     "text": [
      "[('s', 1), ('h', 3), ('m', 1), ('f', 1)]\n"
     ]
    },
    {
     "data": {
      "text/plain": [
       "(list, None)"
      ]
     },
     "execution_count": 38,
     "metadata": {},
     "output_type": "execute_result"
    }
   ],
   "source": [
    "type(output), print (output)"
   ]
  },
  {
   "cell_type": "code",
   "execution_count": 40,
   "metadata": {},
   "outputs": [],
   "source": [
    "count = 0\n",
    "for o in output:\n",
    "    count += o[1]"
   ]
  },
  {
   "cell_type": "code",
   "execution_count": 43,
   "metadata": {},
   "outputs": [
    {
     "name": "stdout",
     "output_type": "stream",
     "text": [
      "Total count :  6\n"
     ]
    }
   ],
   "source": [
    "print (\"Total count : \",count)"
   ]
  },
  {
   "cell_type": "markdown",
   "metadata": {},
   "source": [
    "# Print the number of three long consecutive words starting with each alphabet."
   ]
  },
  {
   "cell_type": "code",
   "execution_count": 47,
   "metadata": {},
   "outputs": [
    {
     "name": "stdout",
     "output_type": "stream",
     "text": [
      "S => 1\n",
      "H => 3\n",
      "M => 1\n",
      "F => 1\n"
     ]
    }
   ],
   "source": [
    "count = 0\n",
    "for o in output:\n",
    "    print (o[0].upper(),\"=>\",o[1])"
   ]
  },
  {
   "cell_type": "markdown",
   "metadata": {},
   "source": [
    "# Print the number of times each combination of three long consecutive words occur in the file."
   ]
  },
  {
   "cell_type": "code",
   "execution_count": 49,
   "metadata": {},
   "outputs": [
    {
     "data": {
      "text/plain": [
       "[(('silly', 'stupid', 'samuel’s'), 1),\n",
       " (('fantastic', 'fanciful', 'foursome'), 1),\n",
       " (('massive', 'murree', 'mountains'), 1),\n",
       " (('horrid', 'henry’s', 'hound'), 2),\n",
       " (('henry’s', 'hound', 'hunts'), 1)]"
      ]
     },
     "execution_count": 49,
     "metadata": {},
     "output_type": "execute_result"
    }
   ],
   "source": [
    "inputfile = sc.textFile(\"./file1.txt\")\n",
    "inputfile.flatMap(lambda line: line.split(\".\")).map(lambda line: line.split(\" \")).map(func).flatMap(lambda xs: (tuple(x) for x in zip(xs, xs[1:], xs[2:]) if (x[0][0] == x[1][0] == x[2][0]))).map(lambda x:(x, 1)).reduceByKey(lambda accum, n: accum + n).collect()"
   ]
  },
  {
   "cell_type": "code",
   "execution_count": null,
   "metadata": {},
   "outputs": [],
   "source": []
  }
 ],
 "metadata": {
  "kernelspec": {
   "display_name": "Python 3",
   "language": "python",
   "name": "python3"
  },
  "language_info": {
   "codemirror_mode": {
    "name": "ipython",
    "version": 3
   },
   "file_extension": ".py",
   "mimetype": "text/x-python",
   "name": "python",
   "nbconvert_exporter": "python",
   "pygments_lexer": "ipython3",
   "version": "3.7.3"
  }
 },
 "nbformat": 4,
 "nbformat_minor": 2
}
