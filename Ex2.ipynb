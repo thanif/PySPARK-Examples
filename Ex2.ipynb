{
 "cells": [
  {
   "cell_type": "code",
   "execution_count": 123,
   "metadata": {},
   "outputs": [],
   "source": [
    "from difflib import SequenceMatcher  \n",
    "import numpy as np\n",
    "import findspark\n",
    "findspark.init()\n",
    "import pyspark\n",
    "from pyspark.sql import *\n",
    "from pyspark import SparkContext, SparkConf"
   ]
  },
  {
   "cell_type": "code",
   "execution_count": 2,
   "metadata": {},
   "outputs": [
    {
     "name": "stdout",
     "output_type": "stream",
     "text": [
      "3.5.2\n"
     ]
    }
   ],
   "source": [
    "from platform import python_version\n",
    "\n",
    "print(python_version())"
   ]
  },
  {
   "cell_type": "code",
   "execution_count": 3,
   "metadata": {},
   "outputs": [],
   "source": [
    "# create the session\n",
    "conf = SparkConf().setMaster(\"local\").setAppName(\"My app\")\n",
    "# create the context\n",
    "#sc = pyspark.SparkContext(conf=conf)\n",
    "sc = SparkContext.getOrCreate()\n",
    "spark = SparkSession.builder.getOrCreate()"
   ]
  },
  {
   "cell_type": "code",
   "execution_count": 4,
   "metadata": {},
   "outputs": [
    {
     "data": {
      "text/html": [
       "\n",
       "            <div>\n",
       "                <p><b>SparkSession - in-memory</b></p>\n",
       "                \n",
       "        <div>\n",
       "            <p><b>SparkContext</b></p>\n",
       "\n",
       "            <p><a href=\"http://192.168.100.6:4041\">Spark UI</a></p>\n",
       "\n",
       "            <dl>\n",
       "              <dt>Version</dt>\n",
       "                <dd><code>v2.4.3</code></dd>\n",
       "              <dt>Master</dt>\n",
       "                <dd><code>local[*]</code></dd>\n",
       "              <dt>AppName</dt>\n",
       "                <dd><code>pyspark-shell</code></dd>\n",
       "            </dl>\n",
       "        </div>\n",
       "        \n",
       "            </div>\n",
       "        "
      ],
      "text/plain": [
       "<pyspark.sql.session.SparkSession at 0x7f2d2600c550>"
      ]
     },
     "execution_count": 4,
     "metadata": {},
     "output_type": "execute_result"
    }
   ],
   "source": [
    "spark"
   ]
  },
  {
   "cell_type": "markdown",
   "metadata": {},
   "source": [
    "# Function for comparing records with references"
   ]
  },
  {
   "cell_type": "code",
   "execution_count": 117,
   "metadata": {},
   "outputs": [],
   "source": [
    "def func(values):\n",
    "\n",
    "    return 1 if (SequenceMatcher(None, values[0].split(\":\")[1], values[1].split(\":\")[1]).ratio() > 0.8) else 0\n",
    "     "
   ]
  },
  {
   "cell_type": "markdown",
   "metadata": {},
   "source": [
    "# Contents of Input Files"
   ]
  },
  {
   "cell_type": "code",
   "execution_count": 5,
   "metadata": {},
   "outputs": [],
   "source": [
    "inputfile = sc.textFile(\"./Input.txt\")\n",
    "referencefile = sc.textFile(\"./Reference.txt\")"
   ]
  },
  {
   "cell_type": "code",
   "execution_count": 6,
   "metadata": {},
   "outputs": [
    {
     "data": {
      "text/plain": [
       "['1:1 0 1 0 1 1 1 1 0 1 0',\n",
       " '2:1 0 1 0 1 1 1 1 0 0 0',\n",
       " '3:1 0 0 0 0 1 1 1 0 1 0',\n",
       " '4:1 1 1 1 1 1 1 1 0 1 1']"
      ]
     },
     "execution_count": 6,
     "metadata": {},
     "output_type": "execute_result"
    }
   ],
   "source": [
    "inputfile.collect()"
   ]
  },
  {
   "cell_type": "code",
   "execution_count": 7,
   "metadata": {},
   "outputs": [
    {
     "data": {
      "text/plain": [
       "['R1:1 0 0 0 1 1 1 1 0 0 0', 'R2:1 1 1 1 1 1 1 1 1 1 1']"
      ]
     },
     "execution_count": 7,
     "metadata": {},
     "output_type": "execute_result"
    }
   ],
   "source": [
    "referencefile.collect()"
   ]
  },
  {
   "cell_type": "markdown",
   "metadata": {},
   "source": [
    "# Cartesian Product"
   ]
  },
  {
   "cell_type": "code",
   "execution_count": 136,
   "metadata": {},
   "outputs": [
    {
     "data": {
      "text/plain": [
       "[('1:1 0 1 0 1 1 1 1 0 1 0', 'R1:1 0 0 0 1 1 1 1 0 0 0'),\n",
       " ('1:1 0 1 0 1 1 1 1 0 1 0', 'R2:1 1 1 1 1 1 1 1 1 1 1'),\n",
       " ('2:1 0 1 0 1 1 1 1 0 0 0', 'R1:1 0 0 0 1 1 1 1 0 0 0'),\n",
       " ('2:1 0 1 0 1 1 1 1 0 0 0', 'R2:1 1 1 1 1 1 1 1 1 1 1'),\n",
       " ('3:1 0 0 0 0 1 1 1 0 1 0', 'R1:1 0 0 0 1 1 1 1 0 0 0'),\n",
       " ('3:1 0 0 0 0 1 1 1 0 1 0', 'R2:1 1 1 1 1 1 1 1 1 1 1'),\n",
       " ('4:1 1 1 1 1 1 1 1 0 1 1', 'R1:1 0 0 0 1 1 1 1 0 0 0'),\n",
       " ('4:1 1 1 1 1 1 1 1 0 1 1', 'R2:1 1 1 1 1 1 1 1 1 1 1')]"
      ]
     },
     "execution_count": 136,
     "metadata": {},
     "output_type": "execute_result"
    }
   ],
   "source": [
    "inputfile.cartesian(referencefile).collect()"
   ]
  },
  {
   "cell_type": "markdown",
   "metadata": {},
   "source": [
    "# Similarity Calculation using output of cartesian product"
   ]
  },
  {
   "cell_type": "code",
   "execution_count": 118,
   "metadata": {},
   "outputs": [
    {
     "data": {
      "text/plain": [
       "[1, 0, 1, 0, 1, 0, 0, 1]"
      ]
     },
     "execution_count": 118,
     "metadata": {},
     "output_type": "execute_result"
    }
   ],
   "source": [
    "inputfile.cartesian(referencefile).map(func).collect()"
   ]
  },
  {
   "cell_type": "code",
   "execution_count": 119,
   "metadata": {},
   "outputs": [],
   "source": [
    "output = inputfile.cartesian(referencefile).map(func).collect()"
   ]
  },
  {
   "cell_type": "markdown",
   "metadata": {},
   "source": [
    "# Display Output"
   ]
  },
  {
   "cell_type": "code",
   "execution_count": 135,
   "metadata": {},
   "outputs": [
    {
     "name": "stdout",
     "output_type": "stream",
     "text": [
      "1  =>  R1\n",
      "2  =>  R1\n",
      "3  =>  R1\n",
      "4  =>  R2\n"
     ]
    }
   ],
   "source": [
    "j = 0\n",
    "\n",
    "q = []\n",
    "\n",
    "for i in range(len(output)):\n",
    "    \n",
    "    if j>0 and j%2==0:\n",
    "        \n",
    "        q.append(output[i])\n",
    "        \n",
    "        k = np.argmax(q)\n",
    "        \n",
    "        print (int(j/2),\" => \",\"R\"+str(k+1))\n",
    "        \n",
    "        q = []\n",
    "        \n",
    "        q.append(output[i])\n",
    "        \n",
    "    else:\n",
    "        \n",
    "        q.append(output[i])\n",
    "        \n",
    "    j+=1    \n",
    "\n",
    "k = np.argmax(q)\n",
    "        \n",
    "print (int(j/2),\" => \",\"R\"+str(k+1))"
   ]
  },
  {
   "cell_type": "code",
   "execution_count": null,
   "metadata": {},
   "outputs": [],
   "source": []
  }
 ],
 "metadata": {
  "kernelspec": {
   "display_name": "Python 3",
   "language": "python",
   "name": "python3"
  },
  "language_info": {
   "codemirror_mode": {
    "name": "ipython",
    "version": 3
   },
   "file_extension": ".py",
   "mimetype": "text/x-python",
   "name": "python",
   "nbconvert_exporter": "python",
   "pygments_lexer": "ipython3",
   "version": "3.7.3"
  }
 },
 "nbformat": 4,
 "nbformat_minor": 4
}
